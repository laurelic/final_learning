{
 "cells": [
  {
   "cell_type": "code",
   "execution_count": 13,
   "metadata": {},
   "outputs": [],
   "source": [
    "import pandas as pd\n",
    "import sqlite3\n",
    "import numpy as np\n",
    "import matplotlib.pyplot as plt\n",
    "%matplotlib inline"
   ]
  },
  {
   "cell_type": "code",
   "execution_count": 29,
   "metadata": {},
   "outputs": [
    {
     "name": "stdout",
     "output_type": "stream",
     "text": [
      "114550\n",
      "Index(['drg_id', 'provider_rowid', 'provider_zip_id', 'hrr_id',\n",
      "       'total_discharges', 'average_covered_charges', 'average_total_payments',\n",
      "       'average_medicare_payments', 'exclude', 'weights', 'geometric_mean_los',\n",
      "       'arithmetic_mean_los'],\n",
      "      dtype='object')\n",
      "drg_id                         int64\n",
      "provider_rowid                 int64\n",
      "provider_zip_id                int64\n",
      "hrr_id                         int64\n",
      "total_discharges               int64\n",
      "average_covered_charges        int64\n",
      "average_total_payments         int64\n",
      "average_medicare_payments      int64\n",
      "exclude                       object\n",
      "weights                      float64\n",
      "geometric_mean_los           float64\n",
      "arithmetic_mean_los          float64\n",
      "dtype: object\n"
     ]
    }
   ],
   "source": [
    "# read with pandas\n",
    "#sqlitedbpath = \"final_learning/database/inpatient.db\"\n",
    "sqlitedbpath = \"../db/inpatientML.db\"\n",
    "conn = sqlite3.connect(sqlitedbpath)\n",
    "# linelimit = 129400; # set this for testing, remove later\n",
    "# df = pd.read_sql_query(f\"select * from inpatient limit {linelimit};\", conn)\n",
    "inpatient_df = pd.read_sql_query(\"select * from inpatient_ML_2016_all where exclude ='N';\", conn)\n",
    "conn.close()\n",
    "print(len(inpatient_df))\n",
    "print(inpatient_df.columns)\n",
    "print(inpatient_df.dtypes)"
   ]
  },
  {
   "cell_type": "code",
   "execution_count": 30,
   "metadata": {},
   "outputs": [],
   "source": [
    "#plt.style.use('ggplot')\n",
    "#scmatrix = pd.plotting.scatter_matrix(inpatient_df, figsize=(12,12),\n",
    "#                             diagonal hist',\n",
    "#                             marker='o',\n",
    "#                             grid=True)\n",
    "#plt.show()"
   ]
  },
  {
   "cell_type": "code",
   "execution_count": 31,
   "metadata": {},
   "outputs": [
    {
     "name": "stdout",
     "output_type": "stream",
     "text": [
      "(114550, 5) (114550, 1)\n"
     ]
    }
   ],
   "source": [
    "# use drg_id, hrr_id,weights,geometric_mean_los, arithmetic_mean_los to predict average_covered_charges\n",
    "X = inpatient_df.drop([\"provider_rowid\",\"provider_zip_id\", \"total_discharges\", \"average_total_payments\", \"average_covered_charges\", \"average_medicare_payments\", \"exclude\"] , axis=1)\n",
    "y = inpatient_df[\"average_covered_charges\"].values.reshape(-1, 1)\n",
    "print(X.shape, y.shape)\n",
    "#print (X)\n",
    "#print(y)\n"
   ]
  },
  {
   "cell_type": "code",
   "execution_count": 32,
   "metadata": {},
   "outputs": [
    {
     "data": {
      "text/html": [
       "<div>\n",
       "<style scoped>\n",
       "    .dataframe tbody tr th:only-of-type {\n",
       "        vertical-align: middle;\n",
       "    }\n",
       "\n",
       "    .dataframe tbody tr th {\n",
       "        vertical-align: top;\n",
       "    }\n",
       "\n",
       "    .dataframe thead th {\n",
       "        text-align: right;\n",
       "    }\n",
       "</style>\n",
       "<table border=\"1\" class=\"dataframe\">\n",
       "  <thead>\n",
       "    <tr style=\"text-align: right;\">\n",
       "      <th></th>\n",
       "      <th>drg_id</th>\n",
       "      <th>hrr_id</th>\n",
       "      <th>weights</th>\n",
       "      <th>geometric_mean_los</th>\n",
       "      <th>arithmetic_mean_los</th>\n",
       "    </tr>\n",
       "  </thead>\n",
       "  <tbody>\n",
       "    <tr>\n",
       "      <th>92330</th>\n",
       "      <td>435</td>\n",
       "      <td>49</td>\n",
       "      <td>1.4989</td>\n",
       "      <td>4.5</td>\n",
       "      <td>6.0</td>\n",
       "    </tr>\n",
       "    <tr>\n",
       "      <th>56001</th>\n",
       "      <td>218</td>\n",
       "      <td>42</td>\n",
       "      <td>4.9612</td>\n",
       "      <td>11.3</td>\n",
       "      <td>14.0</td>\n",
       "    </tr>\n",
       "    <tr>\n",
       "      <th>59195</th>\n",
       "      <td>248</td>\n",
       "      <td>22</td>\n",
       "      <td>1.7730</td>\n",
       "      <td>4.7</td>\n",
       "      <td>6.0</td>\n",
       "    </tr>\n",
       "    <tr>\n",
       "      <th>33081</th>\n",
       "      <td>170</td>\n",
       "      <td>51</td>\n",
       "      <td>3.3126</td>\n",
       "      <td>5.6</td>\n",
       "      <td>7.9</td>\n",
       "    </tr>\n",
       "    <tr>\n",
       "      <th>62140</th>\n",
       "      <td>250</td>\n",
       "      <td>12</td>\n",
       "      <td>0.6567</td>\n",
       "      <td>2.2</td>\n",
       "      <td>2.6</td>\n",
       "    </tr>\n",
       "  </tbody>\n",
       "</table>\n",
       "</div>"
      ],
      "text/plain": [
       "       drg_id  hrr_id  weights  geometric_mean_los  arithmetic_mean_los\n",
       "92330     435      49   1.4989                 4.5                  6.0\n",
       "56001     218      42   4.9612                11.3                 14.0\n",
       "59195     248      22   1.7730                 4.7                  6.0\n",
       "33081     170      51   3.3126                 5.6                  7.9\n",
       "62140     250      12   0.6567                 2.2                  2.6"
      ]
     },
     "execution_count": 32,
     "metadata": {},
     "output_type": "execute_result"
    }
   ],
   "source": [
    "# Split data into training and testing\n",
    "\n",
    "from sklearn.model_selection import train_test_split\n",
    "\n",
    "X_train, X_test, y_train, y_test = train_test_split(X, y, random_state=42)\n",
    "\n",
    "X_train.head()\n"
   ]
  },
  {
   "cell_type": "code",
   "execution_count": 33,
   "metadata": {},
   "outputs": [
    {
     "name": "stdout",
     "output_type": "stream",
     "text": [
      "Training Score: 0.596803910599379\n",
      "Testing Score: 0.5864174951936961\n"
     ]
    }
   ],
   "source": [
    "# Create the model using LinearRegression\n",
    "from sklearn.linear_model import LinearRegression\n",
    "model = LinearRegression()\n",
    "\n",
    "# Fit the model to the training data and calculate the scores for the training and testing data\n",
    "model.fit(X_train, y_train)\n",
    "training_score = model.score(X_train, y_train)\n",
    "testing_score = model.score(X_test, y_test)\n",
    "\n",
    "print(f\"Training Score: {training_score}\")\n",
    "print(f\"Testing Score: {testing_score}\")\n",
    "\n"
   ]
  },
  {
   "cell_type": "code",
   "execution_count": 34,
   "metadata": {},
   "outputs": [],
   "source": [
    "# pip install joblib\n",
    "from sklearn.externals import joblib\n",
    "\n",
    "# Save to file in the current working directory\n",
    "joblib_file = \"LinearRegression_model.pkl\"  \n",
    "#joblib.dump(model, joblib_file)"
   ]
  },
  {
   "cell_type": "code",
   "execution_count": 35,
   "metadata": {},
   "outputs": [
    {
     "name": "stdout",
     "output_type": "stream",
     "text": [
      "Test score: 58.64 %\n",
      "       drg_id  hrr_id  weights  geometric_mean_los  arithmetic_mean_los\n",
      "61164     249      37    0.986                 3.2                  3.7\n",
      "(1, 5)\n",
      "[[32977.48804704]] [33346]\n"
     ]
    }
   ],
   "source": [
    "# Load from file\n",
    "\n",
    "joblib_model = joblib.load(joblib_file)\n",
    "\n",
    "# Calculate the accuracy and predictions\n",
    "score = joblib_model.score(X_test, y_test)  \n",
    "print(\"Test score: {0:.2f} %\".format(100 * score))  \n",
    "Ypredict = joblib_model.predict(X_test[0:1])  \n",
    "print(X_test[0:1])\n",
    "print(X_test[0:1].shape)\n",
    "print(Ypredict, y_test[0])"
   ]
  },
  {
   "cell_type": "code",
   "execution_count": 36,
   "metadata": {},
   "outputs": [
    {
     "name": "stdout",
     "output_type": "stream",
     "text": [
      "(1, 5)\n"
     ]
    },
    {
     "data": {
      "text/html": [
       "<div>\n",
       "<style scoped>\n",
       "    .dataframe tbody tr th:only-of-type {\n",
       "        vertical-align: middle;\n",
       "    }\n",
       "\n",
       "    .dataframe tbody tr th {\n",
       "        vertical-align: top;\n",
       "    }\n",
       "\n",
       "    .dataframe thead th {\n",
       "        text-align: right;\n",
       "    }\n",
       "</style>\n",
       "<table border=\"1\" class=\"dataframe\">\n",
       "  <thead>\n",
       "    <tr style=\"text-align: right;\">\n",
       "      <th></th>\n",
       "      <th>0</th>\n",
       "      <th>1</th>\n",
       "      <th>2</th>\n",
       "      <th>3</th>\n",
       "      <th>4</th>\n",
       "    </tr>\n",
       "  </thead>\n",
       "  <tbody>\n",
       "    <tr>\n",
       "      <th>0</th>\n",
       "      <td>249.0</td>\n",
       "      <td>37.0</td>\n",
       "      <td>0.986</td>\n",
       "      <td>3.2</td>\n",
       "      <td>3.7</td>\n",
       "    </tr>\n",
       "  </tbody>\n",
       "</table>\n",
       "</div>"
      ],
      "text/plain": [
       "       0     1      2    3    4\n",
       "0  249.0  37.0  0.986  3.2  3.7"
      ]
     },
     "execution_count": 36,
     "metadata": {},
     "output_type": "execute_result"
    }
   ],
   "source": [
    "test_a = [ 249, 37, 0.986, 3.2, 3.7]\n",
    "#print (test_a.shape)\n",
    "a_df = pd.DataFrame(np.array(test_a).reshape(1, 5))\n",
    "print(a_df.shape)\n",
    "a_df.head()"
   ]
  },
  {
   "cell_type": "code",
   "execution_count": 37,
   "metadata": {},
   "outputs": [
    {
     "name": "stdout",
     "output_type": "stream",
     "text": [
      "[[32977.48804704]]\n"
     ]
    }
   ],
   "source": [
    "test_predict = joblib_model.predict(a_df)\n",
    "print(Ypredict)"
   ]
  },
  {
   "cell_type": "code",
   "execution_count": 38,
   "metadata": {},
   "outputs": [
    {
     "name": "stdout",
     "output_type": "stream",
     "text": [
      "(114550, 5) (114550, 1)\n"
     ]
    }
   ],
   "source": [
    "# use drg_id, hrr_id,weights,geometric_mean_los, arithmetic_mean_los, \"provider_rowid\"  to predict average_covered_charges\n",
    "X2 = inpatient_df.drop([\"provider_zip_id\", \"total_discharges\", \"average_total_payments\", \"average_covered_charges\", \"average_medicare_payments\", \"exclude\"] , axis=1)\n",
    "y2 = inpatient_df[\"average_covered_charges\"].values.reshape(-1, 1)\n",
    "print(X.shape, y.shape)\n",
    "#print (X)\n",
    "#print(y)"
   ]
  },
  {
   "cell_type": "code",
   "execution_count": 39,
   "metadata": {},
   "outputs": [
    {
     "data": {
      "text/html": [
       "<div>\n",
       "<style scoped>\n",
       "    .dataframe tbody tr th:only-of-type {\n",
       "        vertical-align: middle;\n",
       "    }\n",
       "\n",
       "    .dataframe tbody tr th {\n",
       "        vertical-align: top;\n",
       "    }\n",
       "\n",
       "    .dataframe thead th {\n",
       "        text-align: right;\n",
       "    }\n",
       "</style>\n",
       "<table border=\"1\" class=\"dataframe\">\n",
       "  <thead>\n",
       "    <tr style=\"text-align: right;\">\n",
       "      <th></th>\n",
       "      <th>drg_id</th>\n",
       "      <th>provider_rowid</th>\n",
       "      <th>hrr_id</th>\n",
       "      <th>weights</th>\n",
       "      <th>geometric_mean_los</th>\n",
       "      <th>arithmetic_mean_los</th>\n",
       "    </tr>\n",
       "  </thead>\n",
       "  <tbody>\n",
       "    <tr>\n",
       "      <th>92330</th>\n",
       "      <td>435</td>\n",
       "      <td>1045</td>\n",
       "      <td>49</td>\n",
       "      <td>1.4989</td>\n",
       "      <td>4.5</td>\n",
       "      <td>6.0</td>\n",
       "    </tr>\n",
       "    <tr>\n",
       "      <th>56001</th>\n",
       "      <td>218</td>\n",
       "      <td>1023</td>\n",
       "      <td>42</td>\n",
       "      <td>4.9612</td>\n",
       "      <td>11.3</td>\n",
       "      <td>14.0</td>\n",
       "    </tr>\n",
       "    <tr>\n",
       "      <th>59195</th>\n",
       "      <td>248</td>\n",
       "      <td>795</td>\n",
       "      <td>22</td>\n",
       "      <td>1.7730</td>\n",
       "      <td>4.7</td>\n",
       "      <td>6.0</td>\n",
       "    </tr>\n",
       "    <tr>\n",
       "      <th>33081</th>\n",
       "      <td>170</td>\n",
       "      <td>61</td>\n",
       "      <td>51</td>\n",
       "      <td>3.3126</td>\n",
       "      <td>5.6</td>\n",
       "      <td>7.9</td>\n",
       "    </tr>\n",
       "    <tr>\n",
       "      <th>62140</th>\n",
       "      <td>250</td>\n",
       "      <td>810</td>\n",
       "      <td>12</td>\n",
       "      <td>0.6567</td>\n",
       "      <td>2.2</td>\n",
       "      <td>2.6</td>\n",
       "    </tr>\n",
       "  </tbody>\n",
       "</table>\n",
       "</div>"
      ],
      "text/plain": [
       "       drg_id  provider_rowid  hrr_id  weights  geometric_mean_los  \\\n",
       "92330     435            1045      49   1.4989                 4.5   \n",
       "56001     218            1023      42   4.9612                11.3   \n",
       "59195     248             795      22   1.7730                 4.7   \n",
       "33081     170              61      51   3.3126                 5.6   \n",
       "62140     250             810      12   0.6567                 2.2   \n",
       "\n",
       "       arithmetic_mean_los  \n",
       "92330                  6.0  \n",
       "56001                 14.0  \n",
       "59195                  6.0  \n",
       "33081                  7.9  \n",
       "62140                  2.6  "
      ]
     },
     "execution_count": 39,
     "metadata": {},
     "output_type": "execute_result"
    }
   ],
   "source": [
    "# Split data into training and testing\n",
    "\n",
    "from sklearn.model_selection import train_test_split\n",
    "\n",
    "X2_train, X2_test, y2_train, y2_test = train_test_split(X2, y2, random_state=42)\n",
    "\n",
    "X2_train.head()\n"
   ]
  },
  {
   "cell_type": "code",
   "execution_count": 40,
   "metadata": {},
   "outputs": [
    {
     "name": "stdout",
     "output_type": "stream",
     "text": [
      "Training Score: 0.6077217470916345\n",
      "Testing Score: 0.5964117385878531\n"
     ]
    }
   ],
   "source": [
    "# Create the model using LinearRegression\n",
    "from sklearn.linear_model import LinearRegression\n",
    "model = LinearRegression()\n",
    "\n",
    "# Fit the model to the training data and calculate the scores for the training and testing data\n",
    "model.fit(X2_train, y2_train)\n",
    "training_score2 = model.score(X2_train, y2_train)\n",
    "testing_score2 = model.score(X2_test, y2_test)\n",
    "\n",
    "print(f\"Training Score: {training_score2}\")\n",
    "print(f\"Testing Score: {testing_score2}\")"
   ]
  },
  {
   "cell_type": "code",
   "execution_count": 41,
   "metadata": {},
   "outputs": [],
   "source": [
    "# pip install joblib\n",
    "from sklearn.externals import joblib\n",
    "\n",
    "# Save to file in the current working directory\n",
    "joblib_file2 = \"LinearRegression_model2.pkl\"  \n",
    "#joblib.dump(model, joblib_file2)"
   ]
  },
  {
   "cell_type": "code",
   "execution_count": 42,
   "metadata": {},
   "outputs": [
    {
     "name": "stdout",
     "output_type": "stream",
     "text": [
      "Test score: 59.64 %\n",
      "[[38736.35778679]]\n",
      "       drg_id  provider_rowid  hrr_id  weights  geometric_mean_los  \\\n",
      "61164     249             325      37    0.986                 3.2   \n",
      "\n",
      "       arithmetic_mean_los  \n",
      "61164                  3.7  \n",
      "(1, 6)\n",
      "[[38736.35778679]] [33346]\n"
     ]
    }
   ],
   "source": [
    "# Load from file\n",
    "\n",
    "joblib_model = joblib.load(joblib_file2)\n",
    "\n",
    "# Calculate the accuracy and predictions\n",
    "score = joblib_model.score(X2_test, y2_test)  \n",
    "print(\"Test score: {0:.2f} %\".format(100 * score))  \n",
    "Ypredict2 = joblib_model.predict(X2_test[0:1])  \n",
    "print(Ypredict2)\n",
    "print(X2_test[0:1])\n",
    "print(X2_test[0:1].shape)\n",
    "print(Ypredict2, y2_test[0])"
   ]
  },
  {
   "cell_type": "code",
   "execution_count": 43,
   "metadata": {},
   "outputs": [
    {
     "name": "stdout",
     "output_type": "stream",
     "text": [
      "     0     1    2        3     4     5\n",
      "0  1.0  10.0  6.0  27.1011  30.0  38.6\n",
      "[[32977.48804704]]\n"
     ]
    }
   ],
   "source": [
    "#test_a = [ 249, 37, 0.986, 3.2, 3.7]\n",
    "#a_df = pd.DataFrame(np.array(test_a).reshape(1, 5))\n",
    "\n",
    "#test_a = [119,325,37,1.1481,3.9,4.8]\n",
    "#test_a = [119,2117,54,1.1481,3.9,4.8]\n",
    "#test_a = [119,879,4,1.1481,3.9,4.8]\n",
    "#test_a = [517,133,6,1.766,4.9,6.4]\n",
    "test_a = [1,10,6,27.1011,30,38.6]\n",
    "\n",
    "a_df = pd.DataFrame(np.array(test_a).reshape(1, 6))\n",
    "Ypredict2 = joblib_model.predict(a_df)\n",
    "\n",
    "print(a_df)\n",
    "print(Ypredict)"
   ]
  },
  {
   "cell_type": "code",
   "execution_count": null,
   "metadata": {},
   "outputs": [],
   "source": []
  }
 ],
 "metadata": {
  "kernelspec": {
   "display_name": "Python [conda env:PythonData]",
   "language": "python",
   "name": "conda-env-PythonData-py"
  },
  "language_info": {
   "codemirror_mode": {
    "name": "ipython",
    "version": 3
   },
   "file_extension": ".py",
   "mimetype": "text/x-python",
   "name": "python",
   "nbconvert_exporter": "python",
   "pygments_lexer": "ipython3",
   "version": "3.6.5"
  }
 },
 "nbformat": 4,
 "nbformat_minor": 2
}
